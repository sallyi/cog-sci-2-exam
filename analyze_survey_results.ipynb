{
 "cells": [
  {
   "cell_type": "markdown",
   "metadata": {},
   "source": [
    "## Load/Clean Data"
   ]
  },
  {
   "cell_type": "code",
   "execution_count": 22,
   "metadata": {},
   "outputs": [],
   "source": [
    "import pandas as pd"
   ]
  },
  {
   "cell_type": "code",
   "execution_count": 23,
   "metadata": {},
   "outputs": [],
   "source": [
    "import matplotlib.pyplot as plt"
   ]
  },
  {
   "cell_type": "code",
   "execution_count": 24,
   "metadata": {},
   "outputs": [],
   "source": [
    "from collections import Counter"
   ]
  },
  {
   "cell_type": "code",
   "execution_count": 25,
   "metadata": {},
   "outputs": [],
   "source": [
    "import re"
   ]
  },
  {
   "cell_type": "code",
   "execution_count": 26,
   "metadata": {},
   "outputs": [],
   "source": [
    "df = pd.read_csv('Cognitive Science Experiment.csv')\n"
   ]
  },
  {
   "cell_type": "markdown",
   "metadata": {},
   "source": [
    "#### Clean up free-text field responses"
   ]
  },
  {
   "cell_type": "code",
   "execution_count": 27,
   "metadata": {},
   "outputs": [],
   "source": [
    "def clean_langs(string):\n",
    "    string = ''.join([x for x in string if re.match(r'[\\w\\s]', x)])\n",
    "    if 'Dansk' in string:\n",
    "        return 'Danish'\n",
    "    if 'Tysk' in string:\n",
    "        return 'German'\n",
    "    return string"
   ]
  },
  {
   "cell_type": "code",
   "execution_count": 28,
   "metadata": {},
   "outputs": [],
   "source": [
    "# make function to split languages into lists where applicable, then we can get counts of native languages"
   ]
  },
  {
   "cell_type": "code",
   "execution_count": 29,
   "metadata": {
    "scrolled": false
   },
   "outputs": [
    {
     "data": {
      "text/plain": [
       "Counter({'Bulgarien': 1,\n",
       "         'Danish': 51,\n",
       "         'Danish And English': 3,\n",
       "         'Danish And Russian': 1,\n",
       "         'Danish English': 1,\n",
       "         'Dutch': 2,\n",
       "         'English': 11,\n",
       "         'English American': 1,\n",
       "         'EnglishDanish': 1,\n",
       "         'French': 1,\n",
       "         'German': 3,\n",
       "         'Greek': 2,\n",
       "         'Hebrew': 1,\n",
       "         'Hindi English': 1,\n",
       "         'Hungarian': 1,\n",
       "         'Language': 1,\n",
       "         'Lithuanian': 2,\n",
       "         'Nepali': 1,\n",
       "         'Polish': 2,\n",
       "         'Romanian': 4,\n",
       "         'Russian': 2,\n",
       "         'Slovak': 3,\n",
       "         'Spanish': 6,\n",
       "         'Spanish And English': 1})"
      ]
     },
     "execution_count": 29,
     "metadata": {},
     "output_type": "execute_result"
    }
   ],
   "source": [
    "Counter(df['What is/are your native language(s)? (Can be more than one)'].str.title().str.strip().apply(clean_langs))"
   ]
  },
  {
   "cell_type": "code",
   "execution_count": 30,
   "metadata": {},
   "outputs": [
    {
     "data": {
      "text/plain": [
       "Counter({'Chinese Uni German School And High School French School Spanish Evening Classes And Since IM A Dane IVe Also Learnt Some Swedish And Norwegian IVe Also Studied A Bit Of Thai And Singlish If You Consider Singaporean English With Its Mixture Of Various Asian Languages A Separate Language': 1,\n",
       "         'Engelsk': 2,\n",
       "         'Englisg German Italian': 1,\n",
       "         'English': 14,\n",
       "         'English  French': 1,\n",
       "         'English And French': 2,\n",
       "         'English And German': 6,\n",
       "         'English And Spanish': 1,\n",
       "         'English French': 2,\n",
       "         'English French German Norwegian Latin': 1,\n",
       "         'English French Icelandic': 1,\n",
       "         'English French Italian': 2,\n",
       "         'English French Latin': 1,\n",
       "         'English French Little Italian': 1,\n",
       "         'English French Russian': 1,\n",
       "         'English French Spanish': 1,\n",
       "         'English French Spanish Latin Chinese Korean Russian': 1,\n",
       "         'English German': 9,\n",
       "         'English German And French': 1,\n",
       "         'English German French': 1,\n",
       "         'English German French Spanish Chinese Japanese': 1,\n",
       "         'English German Japanese': 1,\n",
       "         'English German Norwegian French Spanish  Studied Not Learned I Only Speak English And German': 1,\n",
       "         'English German Russian Spanish': 1,\n",
       "         'English German Some Swedish Norwegian French Italian And Spanish': 1,\n",
       "         'English German Spanish': 2,\n",
       "         'English German Turkish Italian Hindi Portugese': 1,\n",
       "         'English Hindi Tamil': 1,\n",
       "         'English Italian': 1,\n",
       "         'English Latin': 1,\n",
       "         'English Russian': 2,\n",
       "         'English Some German': 1,\n",
       "         'English Spanish': 4,\n",
       "         'English Spanish German': 3,\n",
       "         'English Spanish German And French': 1,\n",
       "         'English Swedish German': 1,\n",
       "         'French': 2,\n",
       "         'French And German': 1,\n",
       "         'French English': 1,\n",
       "         'French English Italian Chinese': 1,\n",
       "         'French English Spanish': 1,\n",
       "         'French Latin Russian Hebrew German': 1,\n",
       "         'French Spanish Sinhala': 1,\n",
       "         'German': 5,\n",
       "         'German And Swedish': 1,\n",
       "         'German English': 1,\n",
       "         'German English Latvian Russian': 1,\n",
       "         'German English Russian': 1,\n",
       "         'Hindi English': 1,\n",
       "         'Japanese French': 2,\n",
       "         'Korean': 1,\n",
       "         'Sanskrit Latin Ancient Greek French': 1,\n",
       "         'Spanish French German English': 1,\n",
       "         'Spanish Korean Japanese German': 1,\n",
       "         'Swedish French': 1,\n",
       "         'Swedish German High School Indonesian High School': 1,\n",
       "         'Swedish German Spanish And Dutch': 1})"
      ]
     },
     "execution_count": 30,
     "metadata": {},
     "output_type": "execute_result"
    }
   ],
   "source": [
    "Counter(df['If so, what other language(s) have you studied/learned?'].dropna().str.title().str.strip().apply(clean_langs))"
   ]
  },
  {
   "cell_type": "code",
   "execution_count": 31,
   "metadata": {},
   "outputs": [
    {
     "data": {
      "text/plain": [
       "{'Cbs',\n",
       " 'Clavis',\n",
       " 'Hellerup Sprogcenter',\n",
       " 'Hellerup Sprogskole',\n",
       " 'I Switched Between Helsingør, Hellerup And Lyngby School, And Were In Each Only For A Short Time.',\n",
       " 'Ia',\n",
       " 'Ia Sprog',\n",
       " 'Ia Sprog, Studieskolen',\n",
       " 'Københavns Sprogcenter',\n",
       " 'Leardansk',\n",
       " 'Næstved Sprogskole',\n",
       " 'Private Teacher, Stydieskolen, Clavis',\n",
       " 'Public Language Center',\n",
       " 'Speak School Of Danish',\n",
       " 'Sprogcenter Aalborg',\n",
       " 'Sprogcenter Hellerup',\n",
       " 'Sprogskole',\n",
       " 'Sprogskolen',\n",
       " 'Sprogskolen, Hvidovre Gymnasium',\n",
       " 'Studieskolen',\n",
       " 'Studieskolen, Kbh Sprogcenter',\n",
       " 'Studieskolen, Sprogcenter Hellerup',\n",
       " 'Studieskolen/ Clavis',\n",
       " 'University And Studieskolen',\n",
       " 'Vestegnen Sprog Og Kompetence Center (Vsk)',\n",
       " 'Vuf',\n",
       " nan}"
      ]
     },
     "execution_count": 31,
     "metadata": {},
     "output_type": "execute_result"
    }
   ],
   "source": [
    "set(df['What school did you study in? (e.g. Studieskolen)'].str.title().str.strip())"
   ]
  },
  {
   "cell_type": "code",
   "execution_count": 32,
   "metadata": {},
   "outputs": [
    {
     "data": {
      "text/plain": [
       "{'2.2',\n",
       " '2.3',\n",
       " '3.3',\n",
       " '3.5',\n",
       " '3.5 A3 I Think, The One With The Official Exam L',\n",
       " '3.6 - Studieprøve, C1',\n",
       " '4',\n",
       " '5',\n",
       " '5.1',\n",
       " 'A2',\n",
       " 'B2',\n",
       " 'B2 (Pd3)',\n",
       " 'Completed Level 2',\n",
       " 'Dansk A',\n",
       " \"Don'T Know, It Was A Basic Intro Course\",\n",
       " \"Don'T Remember, Not High.\",\n",
       " 'Finished The Danish Education (Level 4)',\n",
       " 'Kan Ikke Huske',\n",
       " 'Level 5',\n",
       " 'Modul 5',\n",
       " 'Modul 6.3 (Level C1)',\n",
       " 'Module 5 (Passed Pd3)',\n",
       " 'Pd3',\n",
       " 'Prøve I Dansk 3',\n",
       " 'Studieprøven',\n",
       " 'Studieprøven, Level 6',\n",
       " nan}"
      ]
     },
     "execution_count": 32,
     "metadata": {},
     "output_type": "execute_result"
    }
   ],
   "source": [
    "set(df['What was your last level learned? (e.g. level 3.1, level A2)'].str.title().str.strip())\n"
   ]
  },
  {
   "cell_type": "markdown",
   "metadata": {},
   "source": [
    "Make dict of correct answers:"
   ]
  },
  {
   "cell_type": "code",
   "execution_count": 33,
   "metadata": {},
   "outputs": [
    {
     "data": {
      "text/plain": [
       "Index(['Timestamp', 'Please pick a color',\n",
       "       'Please read the text above to the best of your ability. Have you read it?',\n",
       "       'Please read the text above to the best of your ability. Have you read it?.1',\n",
       "       'Da Michael var 38 år, begyndte han at løbe længere distancer. Hvorfor begyndte han netop på det tidspunkt?',\n",
       "       'Hvad sætter Michael pris på ved træningen? ',\n",
       "       'Hvad synes Michaels kone om hans træning? ',\n",
       "       'Hvor lang tid trænede Michael at svømme crawl før han gennemførte hans første ironman?',\n",
       "       'Hvor var Michaels første ironman?', 'Hvor gammel er Michael nu?',\n",
       "       'Hvornår vil Michael stoppe med at løbe?',\n",
       "       'Hvordan er stemningen i teksten?',\n",
       "       'Are you a native speaker of Danish?',\n",
       "       'Have you studied Danish in a language school?',\n",
       "       'What school did you study in? (e.g. Studieskolen)',\n",
       "       'What was your last level learned? (e.g. level 3.1, level A2)',\n",
       "       'Which of these statements best describes your Danish understanding?',\n",
       "       'Which of these statements best describes your Danish communication?',\n",
       "       'Which of these additional statements best describes your Danish communication?',\n",
       "       'Have you ever lived in Denmark?', 'If so, for how long?',\n",
       "       'What is your gender?', 'What is your age?',\n",
       "       'What is/are your native language(s)? (Can be more than one)',\n",
       "       'Have you studied/learned any other languages, if yes, please state which? ',\n",
       "       'If so, what other language(s) have you studied/learned?',\n",
       "       'What is your highest level of education?'],\n",
       "      dtype='object')"
      ]
     },
     "execution_count": 33,
     "metadata": {},
     "output_type": "execute_result"
    }
   ],
   "source": [
    "df.columns\n"
   ]
  },
  {
   "cell_type": "code",
   "execution_count": 34,
   "metadata": {},
   "outputs": [],
   "source": [
    "q_a = {\n",
    "    'Da Michael var 38 år, begyndte han at løbe længere distancer. Hvorfor begyndte han netop på det tidspunkt?':\n",
    "    'Han kunne nemmere holde op med at ryge, når han trænede.',\n",
    "    'Hvad sætter Michael pris på ved træningen? ': 'At den foregår sammen med hans venner.',\n",
    "    'Hvad synes Michaels kone om hans træning? ': 'Hun bryder sig ikke om det.',\n",
    "    'Hvor lang tid trænede Michael at svømme crawl før han gennemførte hans første ironman?': 'I et år.',\n",
    "    'Hvor var Michaels første ironman?' : 'Spanien',\n",
    "    'Hvor gammel er Michael nu?' : '48',\n",
    "    'Hvornår vil Michael stoppe med at løbe?' : 'Han vil aldrig stoppe.'\n",
    "    \n",
    "}"
   ]
  },
  {
   "cell_type": "code",
   "execution_count": 35,
   "metadata": {},
   "outputs": [],
   "source": [
    "df_control = df[df['Please pick a color'] == 'Blå']"
   ]
  },
  {
   "cell_type": "code",
   "execution_count": 39,
   "metadata": {},
   "outputs": [],
   "source": [
    "df_experiment = df[df['Please pick a color'] == 'Grøn']\n",
    "#df_experiment.head()"
   ]
  },
  {
   "cell_type": "code",
   "execution_count": 40,
   "metadata": {},
   "outputs": [],
   "source": [
    "df_danes = df[df['Are you a native speaker of Danish?'] == 'Yes']\n",
    "df_L2 = df[df['Are you a native speaker of Danish?'] == 'No']"
   ]
  },
  {
   "cell_type": "code",
   "execution_count": 61,
   "metadata": {},
   "outputs": [],
   "source": [
    "df_control_danes = df[(df['Please pick a color'] == 'Blå') & (df['Are you a native speaker of Danish?'] == 'Yes')]\n",
    "df_experiment_danes = df[(df['Please pick a color'] == 'Grøn') & (df['Are you a native speaker of Danish?'] == 'Yes')]\n",
    "df_control_L2 = df[(df['Please pick a color'] == 'Blå') & (df['Are you a native speaker of Danish?'] == 'No')]\n",
    "df_experiment_L2 = df[(df['Please pick a color'] == 'Grøn') & (df['Are you a native speaker of Danish?'] == 'No')]"
   ]
  },
  {
   "cell_type": "code",
   "execution_count": 71,
   "metadata": {},
   "outputs": [
    {
     "name": "stdout",
     "output_type": "stream",
     "text": [
      "Hvad synes Michaels kone om hans træning?  Hun bryder sig ikke om det.\n",
      "Hvad sætter Michael pris på ved træningen?  At den foregår sammen med hans venner.\n",
      "Hvornår vil Michael stoppe med at løbe? Han vil aldrig stoppe.\n",
      "Hvor var Michaels første ironman? Spanien\n",
      "Hvor lang tid trænede Michael at svømme crawl før han gennemførte hans første ironman? I et år.\n",
      "Da Michael var 38 år, begyndte han at løbe længere distancer. Hvorfor begyndte han netop på det tidspunkt? Han kunne nemmere holde op med at ryge, når han trænede.\n",
      "Hvor gammel er Michael nu? 48\n"
     ]
    },
    {
     "name": "stderr",
     "output_type": "stream",
     "text": [
      "/anaconda3/lib/python3.5/site-packages/ipykernel_launcher.py:5: UserWarning: Boolean Series key will be reindexed to match DataFrame index.\n",
      "  \"\"\"\n",
      "/anaconda3/lib/python3.5/site-packages/ipykernel_launcher.py:6: UserWarning: Boolean Series key will be reindexed to match DataFrame index.\n",
      "  \n",
      "/anaconda3/lib/python3.5/site-packages/ipykernel_launcher.py:7: UserWarning: Boolean Series key will be reindexed to match DataFrame index.\n",
      "  import sys\n",
      "/anaconda3/lib/python3.5/site-packages/ipykernel_launcher.py:8: UserWarning: Boolean Series key will be reindexed to match DataFrame index.\n",
      "  \n"
     ]
    },
    {
     "data": {
      "text/html": [
       "<div>\n",
       "<style scoped>\n",
       "    .dataframe tbody tr th:only-of-type {\n",
       "        vertical-align: middle;\n",
       "    }\n",
       "\n",
       "    .dataframe tbody tr th {\n",
       "        vertical-align: top;\n",
       "    }\n",
       "\n",
       "    .dataframe thead th {\n",
       "        text-align: right;\n",
       "    }\n",
       "</style>\n",
       "<table border=\"1\" class=\"dataframe\">\n",
       "  <thead>\n",
       "    <tr style=\"text-align: right;\">\n",
       "      <th></th>\n",
       "      <th>Question</th>\n",
       "      <th>Control Danes</th>\n",
       "      <th>Experimental Danes</th>\n",
       "      <th>Control L2</th>\n",
       "      <th>Experimental L2</th>\n",
       "    </tr>\n",
       "  </thead>\n",
       "  <tbody>\n",
       "    <tr>\n",
       "      <th>0</th>\n",
       "      <td>Hvad synes Michaels kone om hans træning?</td>\n",
       "      <td>0.36</td>\n",
       "      <td>0.424</td>\n",
       "      <td>0.522</td>\n",
       "      <td>0.364</td>\n",
       "    </tr>\n",
       "    <tr>\n",
       "      <th>1</th>\n",
       "      <td>Hvad sætter Michael pris på ved træningen?</td>\n",
       "      <td>0.76</td>\n",
       "      <td>0.667</td>\n",
       "      <td>0.609</td>\n",
       "      <td>0.773</td>\n",
       "    </tr>\n",
       "    <tr>\n",
       "      <th>2</th>\n",
       "      <td>Hvornår vil Michael stoppe med at løbe?</td>\n",
       "      <td>0.56</td>\n",
       "      <td>0.545</td>\n",
       "      <td>0.696</td>\n",
       "      <td>0.682</td>\n",
       "    </tr>\n",
       "    <tr>\n",
       "      <th>3</th>\n",
       "      <td>Hvor var Michaels første ironman?</td>\n",
       "      <td>0.92</td>\n",
       "      <td>0.939</td>\n",
       "      <td>0.913</td>\n",
       "      <td>0.864</td>\n",
       "    </tr>\n",
       "    <tr>\n",
       "      <th>4</th>\n",
       "      <td>Hvor lang tid trænede Michael at svømme crawl ...</td>\n",
       "      <td>0.72</td>\n",
       "      <td>0.727</td>\n",
       "      <td>0.696</td>\n",
       "      <td>0.773</td>\n",
       "    </tr>\n",
       "    <tr>\n",
       "      <th>5</th>\n",
       "      <td>Da Michael var 38 år, begyndte han at løbe læn...</td>\n",
       "      <td>0.96</td>\n",
       "      <td>0.970</td>\n",
       "      <td>0.783</td>\n",
       "      <td>0.591</td>\n",
       "    </tr>\n",
       "    <tr>\n",
       "      <th>6</th>\n",
       "      <td>Hvor gammel er Michael nu?</td>\n",
       "      <td>0.96</td>\n",
       "      <td>0.909</td>\n",
       "      <td>1.000</td>\n",
       "      <td>0.909</td>\n",
       "    </tr>\n",
       "  </tbody>\n",
       "</table>\n",
       "</div>"
      ],
      "text/plain": [
       "                                            Question  Control Danes  \\\n",
       "0         Hvad synes Michaels kone om hans træning?            0.36   \n",
       "1        Hvad sætter Michael pris på ved træningen?            0.76   \n",
       "2            Hvornår vil Michael stoppe med at løbe?           0.56   \n",
       "3                  Hvor var Michaels første ironman?           0.92   \n",
       "4  Hvor lang tid trænede Michael at svømme crawl ...           0.72   \n",
       "5  Da Michael var 38 år, begyndte han at løbe læn...           0.96   \n",
       "6                         Hvor gammel er Michael nu?           0.96   \n",
       "\n",
       "   Experimental Danes  Control L2  Experimental L2  \n",
       "0               0.424       0.522            0.364  \n",
       "1               0.667       0.609            0.773  \n",
       "2               0.545       0.696            0.682  \n",
       "3               0.939       0.913            0.864  \n",
       "4               0.727       0.696            0.773  \n",
       "5               0.970       0.783            0.591  \n",
       "6               0.909       1.000            0.909  "
      ]
     },
     "execution_count": 71,
     "metadata": {},
     "output_type": "execute_result"
    }
   ],
   "source": [
    "results_df = pd.DataFrame(columns=['Question','Control Danes', 'Experimental Danes', 'Control L2', 'Experimental L2'])\n",
    "i = 0\n",
    "for q, a in q_a.items():\n",
    "    print(q, a)\n",
    "    dk_control_correct = len(df_control_danes[df[q] == a])\n",
    "    dk_experiment_correct = len(df_experiment_danes[df[q] == a])\n",
    "    L2_control_correct = len(df_control_L2[df[q] == a])\n",
    "    L2_experiment_correct = len(df_experiment_L2[df[q] == a])\n",
    "    #control_incorrect = len(df_control_danes[df[q] != a])\n",
    "    #experiment_incorrect = len(df_experiment_danes[df[q] != a])\n",
    "    #print(control_correct, control_incorrect, (control_correct/len(df_control)))\n",
    "    #print(experiment_correct,experiment_incorrect, experiment_correct/len(df_experiment))\n",
    "    #print('Control group:\\n # correct: %s # incorrect: %s  percent correct: %s' \n",
    "    #      %(control_correct, control_incorrect, (control_correct/len(df_control))))\n",
    "    #print('Experimental group:\\n # correct: %s # incorrect: %s  percent correct: %s' \n",
    "    #      %(experiment_correct,experiment_incorrect, experiment_correct/len(df_experiment)))\n",
    "    results_df.loc[i] = [q, round((dk_control_correct/len(df_control_danes)),3),round((dk_experiment_correct/len(df_experiment_danes)),3),round((L2_control_correct/len(df_control_L2)),3),round((L2_experiment_correct/len(df_experiment_L2)),3)]\n",
    "    i+=1\n",
    "    \n",
    "results_df"
   ]
  },
  {
   "cell_type": "code",
   "execution_count": 65,
   "metadata": {},
   "outputs": [
    {
     "data": {
      "text/plain": [
       "25"
      ]
     },
     "execution_count": 65,
     "metadata": {},
     "output_type": "execute_result"
    }
   ],
   "source": [
    "len(df_control_danes)"
   ]
  },
  {
   "cell_type": "code",
   "execution_count": 44,
   "metadata": {
    "scrolled": true
   },
   "outputs": [
    {
     "name": "stdout",
     "output_type": "stream",
     "text": [
      "Hvad synes Michaels kone om hans træning?  Hun bryder sig ikke om det.\n",
      "Control group:\n",
      " # correct: 21 # incorrect: 27  percent correct: 0.4375\n",
      "Experimental group:\n",
      " # correct: 22 # incorrect: 33  percent correct: 0.4\n",
      "Hvad sætter Michael pris på ved træningen?  At den foregår sammen med hans venner.\n",
      "Control group:\n",
      " # correct: 33 # incorrect: 15  percent correct: 0.6875\n",
      "Experimental group:\n",
      " # correct: 39 # incorrect: 16  percent correct: 0.7090909090909091\n",
      "Hvornår vil Michael stoppe med at løbe? Han vil aldrig stoppe.\n",
      "Control group:\n",
      " # correct: 30 # incorrect: 18  percent correct: 0.625\n",
      "Experimental group:\n",
      " # correct: 33 # incorrect: 22  percent correct: 0.6\n",
      "Hvor var Michaels første ironman? Spanien\n",
      "Control group:\n",
      " # correct: 44 # incorrect: 4  percent correct: 0.9166666666666666\n",
      "Experimental group:\n",
      " # correct: 50 # incorrect: 5  percent correct: 0.9090909090909091\n",
      "Hvor lang tid trænede Michael at svømme crawl før han gennemførte hans første ironman? I et år.\n",
      "Control group:\n",
      " # correct: 34 # incorrect: 14  percent correct: 0.7083333333333334\n",
      "Experimental group:\n",
      " # correct: 41 # incorrect: 14  percent correct: 0.7454545454545455\n",
      "Da Michael var 38 år, begyndte han at løbe længere distancer. Hvorfor begyndte han netop på det tidspunkt? Han kunne nemmere holde op med at ryge, når han trænede.\n",
      "Control group:\n",
      " # correct: 42 # incorrect: 6  percent correct: 0.875\n",
      "Experimental group:\n",
      " # correct: 45 # incorrect: 10  percent correct: 0.8181818181818182\n",
      "Hvor gammel er Michael nu? 48\n",
      "Control group:\n",
      " # correct: 47 # incorrect: 1  percent correct: 0.9791666666666666\n",
      "Experimental group:\n",
      " # correct: 50 # incorrect: 5  percent correct: 0.9090909090909091\n"
     ]
    },
    {
     "name": "stderr",
     "output_type": "stream",
     "text": [
      "/anaconda3/lib/python3.5/site-packages/ipykernel_launcher.py:5: UserWarning: Boolean Series key will be reindexed to match DataFrame index.\n",
      "  \"\"\"\n",
      "/anaconda3/lib/python3.5/site-packages/ipykernel_launcher.py:6: UserWarning: Boolean Series key will be reindexed to match DataFrame index.\n",
      "  \n",
      "/anaconda3/lib/python3.5/site-packages/ipykernel_launcher.py:7: UserWarning: Boolean Series key will be reindexed to match DataFrame index.\n",
      "  import sys\n",
      "/anaconda3/lib/python3.5/site-packages/ipykernel_launcher.py:8: UserWarning: Boolean Series key will be reindexed to match DataFrame index.\n",
      "  \n"
     ]
    },
    {
     "data": {
      "text/html": [
       "<div>\n",
       "<style scoped>\n",
       "    .dataframe tbody tr th:only-of-type {\n",
       "        vertical-align: middle;\n",
       "    }\n",
       "\n",
       "    .dataframe tbody tr th {\n",
       "        vertical-align: top;\n",
       "    }\n",
       "\n",
       "    .dataframe thead th {\n",
       "        text-align: right;\n",
       "    }\n",
       "</style>\n",
       "<table border=\"1\" class=\"dataframe\">\n",
       "  <thead>\n",
       "    <tr style=\"text-align: right;\">\n",
       "      <th></th>\n",
       "      <th>Question</th>\n",
       "      <th>Control</th>\n",
       "      <th>Experimental</th>\n",
       "    </tr>\n",
       "  </thead>\n",
       "  <tbody>\n",
       "    <tr>\n",
       "      <th>0</th>\n",
       "      <td>Hvad synes Michaels kone om hans træning?</td>\n",
       "      <td>0.437500</td>\n",
       "      <td>0.400000</td>\n",
       "    </tr>\n",
       "    <tr>\n",
       "      <th>1</th>\n",
       "      <td>Hvad sætter Michael pris på ved træningen?</td>\n",
       "      <td>0.687500</td>\n",
       "      <td>0.709091</td>\n",
       "    </tr>\n",
       "    <tr>\n",
       "      <th>2</th>\n",
       "      <td>Hvornår vil Michael stoppe med at løbe?</td>\n",
       "      <td>0.625000</td>\n",
       "      <td>0.600000</td>\n",
       "    </tr>\n",
       "    <tr>\n",
       "      <th>3</th>\n",
       "      <td>Hvor var Michaels første ironman?</td>\n",
       "      <td>0.916667</td>\n",
       "      <td>0.909091</td>\n",
       "    </tr>\n",
       "    <tr>\n",
       "      <th>4</th>\n",
       "      <td>Hvor lang tid trænede Michael at svømme crawl ...</td>\n",
       "      <td>0.708333</td>\n",
       "      <td>0.745455</td>\n",
       "    </tr>\n",
       "    <tr>\n",
       "      <th>5</th>\n",
       "      <td>Da Michael var 38 år, begyndte han at løbe læn...</td>\n",
       "      <td>0.875000</td>\n",
       "      <td>0.818182</td>\n",
       "    </tr>\n",
       "    <tr>\n",
       "      <th>6</th>\n",
       "      <td>Hvor gammel er Michael nu?</td>\n",
       "      <td>0.979167</td>\n",
       "      <td>0.909091</td>\n",
       "    </tr>\n",
       "  </tbody>\n",
       "</table>\n",
       "</div>"
      ],
      "text/plain": [
       "                                            Question   Control  Experimental\n",
       "0         Hvad synes Michaels kone om hans træning?   0.437500      0.400000\n",
       "1        Hvad sætter Michael pris på ved træningen?   0.687500      0.709091\n",
       "2            Hvornår vil Michael stoppe med at løbe?  0.625000      0.600000\n",
       "3                  Hvor var Michaels første ironman?  0.916667      0.909091\n",
       "4  Hvor lang tid trænede Michael at svømme crawl ...  0.708333      0.745455\n",
       "5  Da Michael var 38 år, begyndte han at løbe læn...  0.875000      0.818182\n",
       "6                         Hvor gammel er Michael nu?  0.979167      0.909091"
      ]
     },
     "execution_count": 44,
     "metadata": {},
     "output_type": "execute_result"
    }
   ],
   "source": [
    "results_df = pd.DataFrame(columns=['Question','Control', 'Experimental'])\n",
    "i = 0\n",
    "for q, a in q_a.items():\n",
    "    print(q, a)\n",
    "    control_correct = len(df_control[df[q] == a])\n",
    "    experiment_correct = len(df_experiment[df[q] == a])\n",
    "    control_incorrect = len(df_control[df[q] != a])\n",
    "    experiment_incorrect = len(df_experiment[df[q] != a])\n",
    "    #print(control_correct, control_incorrect, (control_correct/len(df_control)))\n",
    "    #print(experiment_correct,experiment_incorrect, experiment_correct/len(df_experiment))\n",
    "    print('Control group:\\n # correct: %s # incorrect: %s  percent correct: %s' \n",
    "          %(control_correct, control_incorrect, (control_correct/len(df_control))))\n",
    "    print('Experimental group:\\n # correct: %s # incorrect: %s  percent correct: %s' \n",
    "          %(experiment_correct,experiment_incorrect, experiment_correct/len(df_experiment)))\n",
    "    results_df.loc[i] = [q, (control_correct/len(df_control)),(experiment_correct/len(df_experiment))]\n",
    "    i+=1\n",
    "    \n",
    "results_df"
   ]
  },
  {
   "cell_type": "code",
   "execution_count": 45,
   "metadata": {
    "scrolled": true
   },
   "outputs": [
    {
     "name": "stdout",
     "output_type": "stream",
     "text": [
      "Hvad synes Michaels kone om hans træning?  Hun bryder sig ikke om det.\n",
      "Control group:\n",
      " # correct: 23 # incorrect: 35  percent correct: 0.4791666666666667\n",
      "Experimental group:\n",
      " # correct: 20 # incorrect: 25  percent correct: 0.36363636363636365\n",
      "Hvad sætter Michael pris på ved træningen?  At den foregår sammen med hans venner.\n",
      "Control group:\n",
      " # correct: 41 # incorrect: 17  percent correct: 0.8541666666666666\n",
      "Experimental group:\n",
      " # correct: 31 # incorrect: 14  percent correct: 0.5636363636363636\n",
      "Hvornår vil Michael stoppe med at løbe? Han vil aldrig stoppe.\n",
      "Control group:\n",
      " # correct: 32 # incorrect: 26  percent correct: 0.6666666666666666\n",
      "Experimental group:\n",
      " # correct: 31 # incorrect: 14  percent correct: 0.5636363636363636\n",
      "Hvor var Michaels første ironman? Spanien\n",
      "Control group:\n",
      " # correct: 54 # incorrect: 4  percent correct: 1.125\n",
      "Experimental group:\n",
      " # correct: 40 # incorrect: 5  percent correct: 0.7272727272727273\n",
      "Hvor lang tid trænede Michael at svømme crawl før han gennemførte hans første ironman? I et år.\n",
      "Control group:\n",
      " # correct: 42 # incorrect: 16  percent correct: 0.875\n",
      "Experimental group:\n",
      " # correct: 33 # incorrect: 12  percent correct: 0.6\n",
      "Da Michael var 38 år, begyndte han at løbe længere distancer. Hvorfor begyndte han netop på det tidspunkt? Han kunne nemmere holde op med at ryge, når han trænede.\n",
      "Control group:\n",
      " # correct: 56 # incorrect: 2  percent correct: 1.1666666666666667\n",
      "Experimental group:\n",
      " # correct: 31 # incorrect: 14  percent correct: 0.5636363636363636\n",
      "Hvor gammel er Michael nu? 48\n",
      "Control group:\n",
      " # correct: 54 # incorrect: 4  percent correct: 1.125\n",
      "Experimental group:\n",
      " # correct: 43 # incorrect: 2  percent correct: 0.7818181818181819\n"
     ]
    },
    {
     "name": "stderr",
     "output_type": "stream",
     "text": [
      "/anaconda3/lib/python3.5/site-packages/ipykernel_launcher.py:5: UserWarning: Boolean Series key will be reindexed to match DataFrame index.\n",
      "  \"\"\"\n",
      "/anaconda3/lib/python3.5/site-packages/ipykernel_launcher.py:6: UserWarning: Boolean Series key will be reindexed to match DataFrame index.\n",
      "  \n",
      "/anaconda3/lib/python3.5/site-packages/ipykernel_launcher.py:7: UserWarning: Boolean Series key will be reindexed to match DataFrame index.\n",
      "  import sys\n",
      "/anaconda3/lib/python3.5/site-packages/ipykernel_launcher.py:8: UserWarning: Boolean Series key will be reindexed to match DataFrame index.\n",
      "  \n"
     ]
    },
    {
     "data": {
      "text/html": [
       "<div>\n",
       "<style scoped>\n",
       "    .dataframe tbody tr th:only-of-type {\n",
       "        vertical-align: middle;\n",
       "    }\n",
       "\n",
       "    .dataframe tbody tr th {\n",
       "        vertical-align: top;\n",
       "    }\n",
       "\n",
       "    .dataframe thead th {\n",
       "        text-align: right;\n",
       "    }\n",
       "</style>\n",
       "<table border=\"1\" class=\"dataframe\">\n",
       "  <thead>\n",
       "    <tr style=\"text-align: right;\">\n",
       "      <th></th>\n",
       "      <th>Question</th>\n",
       "      <th>Danes</th>\n",
       "      <th>Immigrants</th>\n",
       "    </tr>\n",
       "  </thead>\n",
       "  <tbody>\n",
       "    <tr>\n",
       "      <th>0</th>\n",
       "      <td>Hvad synes Michaels kone om hans træning?</td>\n",
       "      <td>0.396552</td>\n",
       "      <td>0.444444</td>\n",
       "    </tr>\n",
       "    <tr>\n",
       "      <th>1</th>\n",
       "      <td>Hvad sætter Michael pris på ved træningen?</td>\n",
       "      <td>0.706897</td>\n",
       "      <td>0.688889</td>\n",
       "    </tr>\n",
       "    <tr>\n",
       "      <th>2</th>\n",
       "      <td>Hvornår vil Michael stoppe med at løbe?</td>\n",
       "      <td>0.551724</td>\n",
       "      <td>0.688889</td>\n",
       "    </tr>\n",
       "    <tr>\n",
       "      <th>3</th>\n",
       "      <td>Hvor var Michaels første ironman?</td>\n",
       "      <td>0.931034</td>\n",
       "      <td>0.888889</td>\n",
       "    </tr>\n",
       "    <tr>\n",
       "      <th>4</th>\n",
       "      <td>Hvor lang tid trænede Michael at svømme crawl ...</td>\n",
       "      <td>0.724138</td>\n",
       "      <td>0.733333</td>\n",
       "    </tr>\n",
       "    <tr>\n",
       "      <th>5</th>\n",
       "      <td>Da Michael var 38 år, begyndte han at løbe læn...</td>\n",
       "      <td>0.965517</td>\n",
       "      <td>0.688889</td>\n",
       "    </tr>\n",
       "    <tr>\n",
       "      <th>6</th>\n",
       "      <td>Hvor gammel er Michael nu?</td>\n",
       "      <td>0.931034</td>\n",
       "      <td>0.955556</td>\n",
       "    </tr>\n",
       "  </tbody>\n",
       "</table>\n",
       "</div>"
      ],
      "text/plain": [
       "                                            Question     Danes  Immigrants\n",
       "0         Hvad synes Michaels kone om hans træning?   0.396552    0.444444\n",
       "1        Hvad sætter Michael pris på ved træningen?   0.706897    0.688889\n",
       "2            Hvornår vil Michael stoppe med at løbe?  0.551724    0.688889\n",
       "3                  Hvor var Michaels første ironman?  0.931034    0.888889\n",
       "4  Hvor lang tid trænede Michael at svømme crawl ...  0.724138    0.733333\n",
       "5  Da Michael var 38 år, begyndte han at løbe læn...  0.965517    0.688889\n",
       "6                         Hvor gammel er Michael nu?  0.931034    0.955556"
      ]
     },
     "execution_count": 45,
     "metadata": {},
     "output_type": "execute_result"
    }
   ],
   "source": [
    "results_df = pd.DataFrame(columns=['Question','Danes', 'Immigrants'])\n",
    "i = 0\n",
    "for q, a in q_a.items():\n",
    "    print(q, a)\n",
    "    control_correct = len(df_danes[df[q] == a])\n",
    "    experiment_correct = len(df_L2[df[q] == a])\n",
    "    control_incorrect = len(df_danes[df[q] != a])\n",
    "    experiment_incorrect = len(df_L2[df[q] != a])\n",
    "    #print(control_correct, control_incorrect, (control_correct/len(df_control)))\n",
    "    #print(experiment_correct,experiment_incorrect, experiment_correct/len(df_experiment))\n",
    "    print('Control group:\\n # correct: %s # incorrect: %s  percent correct: %s' \n",
    "          %(control_correct, control_incorrect, (control_correct/len(df_control))))\n",
    "    print('Experimental group:\\n # correct: %s # incorrect: %s  percent correct: %s' \n",
    "          %(experiment_correct,experiment_incorrect, experiment_correct/len(df_experiment)))\n",
    "    results_df.loc[i] = [q, (control_correct/len(df_danes)),(experiment_correct/len(df_L2))]\n",
    "    i+=1\n",
    "    \n",
    "results_df"
   ]
  },
  {
   "cell_type": "code",
   "execution_count": null,
   "metadata": {},
   "outputs": [],
   "source": [
    "with open('results.tex','w') as rf:\n",
    "    rf.write(results_df.to_latex(index=False))"
   ]
  },
  {
   "cell_type": "code",
   "execution_count": null,
   "metadata": {},
   "outputs": [],
   "source": []
  }
 ],
 "metadata": {
  "kernelspec": {
   "display_name": "Python 3",
   "language": "python",
   "name": "python3"
  },
  "language_info": {
   "codemirror_mode": {
    "name": "ipython",
    "version": 3
   },
   "file_extension": ".py",
   "mimetype": "text/x-python",
   "name": "python",
   "nbconvert_exporter": "python",
   "pygments_lexer": "ipython3",
   "version": "3.5.5"
  }
 },
 "nbformat": 4,
 "nbformat_minor": 2
}
